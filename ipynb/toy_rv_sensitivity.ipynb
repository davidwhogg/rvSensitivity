{
  "nbformat": 4,
  "nbformat_minor": 0,
  "metadata": {
    "colab": {
      "name": "toy_rv_sensitivity.ipynb",
      "provenance": [],
      "authorship_tag": "ABX9TyMTkJGosX0w5foglOCOHs0L",
      "include_colab_link": true
    },
    "kernelspec": {
      "name": "python3",
      "display_name": "Python 3"
    }
  },
  "cells": [
    {
      "cell_type": "markdown",
      "metadata": {
        "id": "view-in-github",
        "colab_type": "text"
      },
      "source": [
        "<a href=\"https://colab.research.google.com/github/davidwhogg/rvSensitivity/blob/master/ipynb/toy_rv_sensitivity.ipynb\" target=\"_parent\"><img src=\"https://colab.research.google.com/assets/colab-badge.svg\" alt=\"Open In Colab\"/></a>"
      ]
    },
    {
      "cell_type": "markdown",
      "metadata": {
        "id": "iwid8QXRVHGE",
        "colab_type": "text"
      },
      "source": [
        "# Toy experiments in RV sensitivity\n",
        "\n",
        "Just checking the basics."
      ]
    },
    {
      "cell_type": "code",
      "metadata": {
        "id": "6gKYreaXm0Sc",
        "colab_type": "code",
        "colab": {}
      },
      "source": [
        "import numpy as np\n",
        "import pylab as plt\n",
        "#matplotlib inline"
      ],
      "execution_count": 0,
      "outputs": []
    },
    {
      "cell_type": "code",
      "metadata": {
        "id": "rCJz-0Ucm-DN",
        "colab_type": "code",
        "colab": {}
      },
      "source": [
        "def make_observing_program(N, T, periodic=False):\n",
        "  \"\"\"\n",
        "  really dumb observing plans\n",
        "  \"\"\"\n",
        "  if periodic:\n",
        "    dT = T / N\n",
        "    return np.arange(0.5 * dT, T, dT)\n",
        "  return np.sort(T * np.random.uniform(size=N))"
      ],
      "execution_count": 0,
      "outputs": []
    },
    {
      "cell_type": "code",
      "metadata": {
        "id": "VefkdK8OnYgf",
        "colab_type": "code",
        "colab": {}
      },
      "source": [
        "Ny = 5 # 5-year survey\n",
        "N = 150 * Ny\n",
        "T = 365.25 * Ny\n",
        "ts = make_observing_program(N, T)\n",
        "ts.shape"
      ],
      "execution_count": 0,
      "outputs": []
    },
    {
      "cell_type": "code",
      "metadata": {
        "id": "Fw_nylQEnnIr",
        "colab_type": "code",
        "colab": {}
      },
      "source": [
        "# mildly heteroskedastic data around 30 cm/s\n",
        "sigma = 30.\n",
        "sigmas = sigma - 0.1 * sigma + 0.2 * sigma * np.random.uniform(size=N) # cm/s\n",
        "ivars = 1. / sigmas ** 2"
      ],
      "execution_count": 0,
      "outputs": []
    },
    {
      "cell_type": "code",
      "metadata": {
        "id": "i2cvcoEVn7jH",
        "colab_type": "code",
        "colab": {}
      },
      "source": [
        "# logarithmic period grid\n",
        "Pmin = 2. ** 4 # days\n",
        "Pmax = 2. ** 14 # days\n",
        "Ps = np.exp(np.arange(np.log(Pmin), np.log(Pmax)+0.001, 0.125))\n",
        "Ps.shape"
      ],
      "execution_count": 0,
      "outputs": []
    },
    {
      "cell_type": "code",
      "metadata": {
        "id": "Zzs8SmaUpPMk",
        "colab_type": "code",
        "colab": {}
      },
      "source": [
        "def design_matrix(P, phase, ts):\n",
        "  \"\"\"\n",
        "  This is supposed to do the Kepler problem but it doesn't!\n",
        "  \"\"\"\n",
        "  return np.vstack((np.cos(2. * np.pi * ts / P + phase), np.ones_like(ts))).T\n",
        "\n",
        "def precisions(Ps, ts, ivars):\n",
        "  # coarse grid for phase integral\n",
        "  Nphase = 16\n",
        "  dph = 2. * np.pi / Nphase\n",
        "  phases = np.arange(0.5 * dph, 2. * np.pi, dph)\n",
        "  infos = np.zeros_like(Ps)\n",
        "  for ii, P in enumerate(Ps):\n",
        "    for phi in phases:\n",
        "      A = design_matrix(P, phi, ts)\n",
        "      infos[ii] += (1. / np.linalg.inv(A.T * ivars @ A)[0, 0]) / Nphase # doing an integral\n",
        "  return infos"
      ],
      "execution_count": 0,
      "outputs": []
    },
    {
      "cell_type": "code",
      "metadata": {
        "id": "__aVHHY8oY-9",
        "colab_type": "code",
        "colab": {}
      },
      "source": [
        "infos_P = precisions(Ps, ts, ivars)\n",
        "uncertainties_P = 1. / np.sqrt(infos_P)"
      ],
      "execution_count": 0,
      "outputs": []
    },
    {
      "cell_type": "code",
      "metadata": {
        "id": "xQpQbrDKrX8y",
        "colab_type": "code",
        "colab": {}
      },
      "source": [
        "plt.axvline(T)\n",
        "plt.axhline(sigma / np.sqrt(N / 2))\n",
        "plt.plot(Ps, uncertainties_P, \"k.\")\n",
        "plt.semilogx()\n",
        "plt.ylim(0., 10.)\n",
        "plt.ylabel(\"expected uncertainty on kappa (cm/s)\")\n",
        "plt.xlabel(\"orbital period P (days)\")\n",
        "plt.title(\"sensitivity of a {:d}-year survey as a function of period P\".format(Ny))"
      ],
      "execution_count": 0,
      "outputs": []
    },
    {
      "cell_type": "code",
      "metadata": {
        "id": "zdFJnWsKrbwr",
        "colab_type": "code",
        "colab": {}
      },
      "source": [
        "fiducialP = 300.0 # days\n",
        "Nmin = (fiducialP / T) ** 2 * N\n",
        "Ns = np.ceil(np.exp(np.linspace(np.log(Nmin), np.log(N), 32))).astype(int)\n",
        "Nsubsurvey = len(Ns)\n",
        "Ts = np.zeros(Nsubsurvey)\n",
        "infos_T = np.zeros(Nsubsurvey)\n",
        "for subsurvey in range(Nsubsurvey):\n",
        "  tsthis = ts[:Ns[subsurvey]]\n",
        "  ivarsthis = ivars[:Ns[subsurvey]]\n",
        "  Ts[subsurvey] = np.max(tsthis) - np.min(tsthis) # dumb\n",
        "  infos_T[subsurvey] = precisions([fiducialP, ], tsthis, ivarsthis)\n",
        "uncertainties_T = 1. / np.sqrt(infos_T)"
      ],
      "execution_count": 0,
      "outputs": []
    },
    {
      "cell_type": "code",
      "metadata": {
        "id": "oxngqsM535wn",
        "colab_type": "code",
        "colab": {}
      },
      "source": [
        "plt.axvline(fiducialP)\n",
        "plt.plot(Ts, sigma / np.sqrt((Ns / 2)))\n",
        "plt.plot(Ts, uncertainties_T, \"k.\")\n",
        "plt.ylabel(\"expected uncertainty at P = 300 d (cm/s)\")\n",
        "plt.xlabel(\"survey duration T (days)\")\n",
        "plt.title(\"sensitivity to a {:3.0f}-d planet as a function of survey duration\".format(fiducialP))\n",
        "plt.loglog()"
      ],
      "execution_count": 0,
      "outputs": []
    },
    {
      "cell_type": "code",
      "metadata": {
        "id": "AzP5ROqe4lk6",
        "colab_type": "code",
        "colab": {}
      },
      "source": [
        ""
      ],
      "execution_count": 0,
      "outputs": []
    }
  ]
}